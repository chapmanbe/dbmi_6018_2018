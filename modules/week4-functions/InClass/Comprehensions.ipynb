{
 "cells": [
  {
   "cell_type": "markdown",
   "metadata": {},
   "source": [
    "# Comprehensions: \n",
    "## [Lists](https://docs.python.org/3.5/tutorial/datastructures.html#list-comprehensions), Dictionaries, and Sets\n",
    "\n",
    ">Every programming language has that one feature, a complicated thing intentionally made simple. If you’re coming from another language, you could easily miss it, because your old language didn’t make that thing simple (because it was busy making something else simple instead). ([Dive Into Python 3](http://www.diveintopython3.net/comprehensions.html))\n",
    "\n",
    "## From the Python Documentation\n",
    "\n",
    ">List comprehensions provide a concise way to create lists. Common applications are to make new lists where each element is the result of some operations applied to each member of another sequence or iterable, or to create a subsequence of those elements that satisfy a certain condition. ([Python 3 Documentation](https://docs.python.org/3/tutorial/datastructures.html#list-comprehensions))"
   ]
  },
  {
   "cell_type": "markdown",
   "metadata": {},
   "source": [
    "## Create List of Square numbers"
   ]
  },
  {
   "cell_type": "code",
   "execution_count": null,
   "metadata": {},
   "outputs": [],
   "source": [
    "squares = []\n",
    "for x in range(15):\n",
    "    squares.append(x*x)"
   ]
  },
  {
   "cell_type": "markdown",
   "metadata": {},
   "source": [
    "#### Now with comprehension"
   ]
  },
  {
   "cell_type": "code",
   "execution_count": null,
   "metadata": {},
   "outputs": [],
   "source": [
    "[x**2 for x in range(15)]"
   ]
  },
  {
   "cell_type": "markdown",
   "metadata": {},
   "source": [
    "### We can do nested comprehensions"
   ]
  },
  {
   "cell_type": "code",
   "execution_count": null,
   "metadata": {},
   "outputs": [],
   "source": [
    "rslt = []\n",
    "for i in range(5):\n",
    "    for j in range(5):\n",
    "        rslt.append((i,j))\n",
    "print(rslt)"
   ]
  },
  {
   "cell_type": "code",
   "execution_count": null,
   "metadata": {},
   "outputs": [],
   "source": [
    "rslt = [(i,j) for i in range(5) for j in range(5)]\n",
    "print(rslt)"
   ]
  },
  {
   "cell_type": "markdown",
   "metadata": {},
   "source": [
    "### We can ask questions\n",
    "#### Create List of Numbers that are Divisble by 2"
   ]
  },
  {
   "cell_type": "code",
   "execution_count": null,
   "metadata": {},
   "outputs": [],
   "source": [
    "[x for x in range(30) if x % 2 == 0]"
   ]
  },
  {
   "cell_type": "markdown",
   "metadata": {},
   "source": [
    "#### How would you create a list of numbers that are divisible by 2 and 3?"
   ]
  },
  {
   "cell_type": "code",
   "execution_count": null,
   "metadata": {},
   "outputs": [],
   "source": []
  },
  {
   "cell_type": "markdown",
   "metadata": {},
   "source": [
    "#### How would you create a list of numbers that are divisible by 2 or 3?"
   ]
  },
  {
   "cell_type": "code",
   "execution_count": null,
   "metadata": {},
   "outputs": [],
   "source": [
    "report = \"\"\"\\nNursing Progress Note:\\nPlease refer to CareVue for details. \\nNeuro: Neuro exam q1hr. Alert this AM; following commands; MAE. Head CT and MRI today. Pt received total of 1mg lorazepam in MRI for agitation and restlessness. After returning back to SICU from MRI, pt very sleepy but arousable by voice/stimulus. Pt continues to move all extremities, but does not follow commands. PERRLA (brisk). Pt appears comfortable; no grimacing noted.\\nCV: Afebrile (Tmax 99.0). HR 60-70s (NSR). Goal SBP 90-130 per Dr. [**Last Name (STitle) **] [**Last Name (NamePattern4) **]; metoprolol q4hr. No edema noted; DP/PT pulses palpable. NS @ 80cc/hr. Phenytoin q8hr IV. Na checked q4hr (last Na 137); sodium tabs started. Kayexalate 30grams PNGTx1 for K 5.4; repeat K:4.1 (no BM). \\nPulm: Lung sounds CTA/diminished at bases. O2 sat WNL on 2LNC. No shortness of breath noted. \\nGI: NGT to LWS w/ small amount of liquid, brown drainage. Abdomen softly distended w/ +BS. \\nGU: Foley intact w/ clear, yellow urine. UO  25-40cc/hr. \\nInteg: Skin W/D/I. Multiple ecchymosis from blood draws. PIVx3. Bilat wrist restraints d/t pt attempting to pull at IV tubings/foley in AM.\\nSocial: Multiple phone calls from family today; updated by RN. Family will visit tonight.\\nPlan: Continue to monitor VS, I's and O's. Neuro checks q1hr. Monitor lytes and replete as needed. Goal SBP 90-130. Follow head CT and MRI results. ?A-line placement tonight or in AM for cont. BP monitoring and frequent blood draws. Update family w/ plan of care and notify w/ significant events. Continue ICU care and treatments.  \\n\"\"\"\n",
    "print(report)"
   ]
  },
  {
   "cell_type": "markdown",
   "metadata": {},
   "source": [
    "#### How would I generate a list of \"words\" with non-alphabetical characters?"
   ]
  },
  {
   "cell_type": "code",
   "execution_count": null,
   "metadata": {},
   "outputs": [],
   "source": [
    "print([word.lower().strip() for word in report.split() if  word.isalpha()])"
   ]
  },
  {
   "cell_type": "markdown",
   "metadata": {},
   "source": [
    "#### How would I generate a list of \"words\" containing numbers?"
   ]
  },
  {
   "cell_type": "code",
   "execution_count": null,
   "metadata": {},
   "outputs": [],
   "source": []
  }
 ],
 "metadata": {
  "kernelspec": {
   "display_name": "Python [default]",
   "language": "python",
   "name": "python3"
  },
  "language_info": {
   "codemirror_mode": {
    "name": "ipython",
    "version": 3
   },
   "file_extension": ".py",
   "mimetype": "text/x-python",
   "name": "python",
   "nbconvert_exporter": "python",
   "pygments_lexer": "ipython3",
   "version": "3.6.4"
  }
 },
 "nbformat": 4,
 "nbformat_minor": 2
}
