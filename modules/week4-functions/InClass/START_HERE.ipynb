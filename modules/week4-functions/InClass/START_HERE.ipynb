{
 "cells": [
  {
   "cell_type": "markdown",
   "metadata": {},
   "source": [
    "# Working with Functions\n",
    "\n",
    "### From the Class Prep\n",
    "\n",
    "### Example: Given the above definition of a functions\n",
    "#### Is this a function?\n",
    "#### If it is a function, what is the domain? range?\n",
    "\n",
    "<img src=\"https://upload.wikimedia.org/wikipedia/commons/thumb/2/2e/Square-root_function.svg/2000px-Square-root_function.svg.png\" alt=\"A function\" width=\"200\">\n",
    "\n",
    "\n",
    "* We concluded this is not a function (one input number generates two outputs).\n",
    "\n",
    "* How could you we change this so that it is a function?\n",
    "\n",
    "### In-Class Activites\n",
    "\n",
    "* [List Comprehension](Comprehensions.ipynb)\n",
    "* [Functions in Python](FunctionsInPython.ipynb)\n",
    "* [Practicing with Functions](PracticingFunctions.ipynb)\n",
    "* [Lambda Functions](lambda_functions.ipynb)\n",
    "* [Recursion](recursion_6018.ipynb)\n",
    "* [Functions and Numeric Data](PlayingWithNumbers.ipynb)\n"
   ]
  },
  {
   "cell_type": "code",
   "execution_count": null,
   "metadata": {},
   "outputs": [],
   "source": []
  }
 ],
 "metadata": {
  "anaconda-cloud": {},
  "kernelspec": {
   "display_name": "Python [default]",
   "language": "python",
   "name": "python3"
  },
  "language_info": {
   "codemirror_mode": {
    "name": "ipython",
    "version": 3
   },
   "file_extension": ".py",
   "mimetype": "text/x-python",
   "name": "python",
   "nbconvert_exporter": "python",
   "pygments_lexer": "ipython3",
   "version": "3.6.4"
  }
 },
 "nbformat": 4,
 "nbformat_minor": 1
}
