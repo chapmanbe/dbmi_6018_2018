{
 "cells": [
  {
   "cell_type": "markdown",
   "metadata": {
    "internals": {
     "slide_helper": "subslide_end",
     "slide_type": "subslide"
    },
    "slide_helper": "slide_end",
    "slideshow": {
     "slide_type": "slide"
    }
   },
   "source": [
    "# Design Decisions with Python Functions\n",
    "\n"
   ]
  },
  {
   "cell_type": "code",
   "execution_count": null,
   "metadata": {
    "nbgrader": {
     "checksum": "20237d7072264a022f7e65a5171291ac",
     "grade": false,
     "grade_id": "cell-d9a47efa79347e83",
     "locked": true,
     "schema_version": 1,
     "solution": false
    }
   },
   "outputs": [],
   "source": [
    "from nose.tools import assert_true, assert_equal, assert_false, assert_almost_equal, assert_raises"
   ]
  },
  {
   "cell_type": "markdown",
   "metadata": {
    "internals": {
     "slide_helper": "subslide_end",
     "slide_type": "subslide"
    },
    "slide_helper": "slide_end",
    "slideshow": {
     "slide_type": "subslide"
    }
   },
   "source": [
    "# Two primary reasons for defining functions:\n",
    "1. Code reuse: \n",
    "    * Write and debug code once. Then I can use this same (correct) code many times\n",
    "    * This makes upkeep/modifications simpler. When I think of an improved way of implementing something I only need to change it in one location.\n",
    "\n",
    "2. Procedural Decomposition:\n",
    "    * A function should do one thing, not multiple things.\n",
    "    * This can become a matter of style\n",
    "    "
   ]
  },
  {
   "cell_type": "markdown",
   "metadata": {},
   "source": [
    "## Function Style According to Mark Thomason\n",
    "![Mark Thomason](./mark_thomason.jpg)\n",
    "\n",
    "## The entire function should be visible on your screen within your editor.\n",
    "## If your function doesn't fit on your screen, get a bigger screen\n",
    "\n",
    "### What are the implications of these heuristic?\n",
    "#### Function size changes with age?"
   ]
  },
  {
   "cell_type": "markdown",
   "metadata": {
    "nbgrader": {
     "checksum": "c3b60adad5addbc4a9ac8b0c17696eff",
     "grade": false,
     "grade_id": "cell-5e86cfe5fedf268f",
     "locked": true,
     "schema_version": 1,
     "solution": false
    }
   },
   "source": [
    "## Exercise: Define a function to get a positive integer from a user.\n",
    "### Requirements\n",
    "1. Use an infinite while loop\n",
    "1. Use the input function\n",
    "1. Keep prompting the user for input until a valid positive integer is provided\n",
    "\n",
    "We'll use a try/except block to account for users entering non-integer value\n",
    "\n",
    "```Python\n",
    "try:\n",
    "    # Get input from user\n",
    "    # convert to an integer (this where we could get an exception\n",
    "    # test for positivity\n",
    "except ValueError:\n",
    "    # if we get an input that we can't convert to an integer, we need to do something\n",
    "```"
   ]
  },
  {
   "cell_type": "code",
   "execution_count": null,
   "metadata": {},
   "outputs": [],
   "source": [
    "def get_pos_integer(prompt=\"Enter a positive integer\"):\n",
    "    while True:\n",
    "        num = input(prompt)\n",
    "        try:\n",
    "            num = int(num)\n",
    "            if num > 0:\n",
    "                return num\n",
    "        except ValueError:\n",
    "            pass\n"
   ]
  },
  {
   "cell_type": "markdown",
   "metadata": {
    "nbgrader": {
     "checksum": "ba6e5481a312c3d8258d66804fb33c77",
     "grade": false,
     "grade_id": "cell-0f8cdb83318316ef",
     "locked": true,
     "schema_version": 1,
     "solution": false
    }
   },
   "source": [
    "## Does this function do one thing?\n",
    "## Could we break it into smaller pieces?"
   ]
  },
  {
   "cell_type": "markdown",
   "metadata": {
    "nbgrader": {
     "checksum": "fe272aa8b9a209a1bdd1f5270f8b5620",
     "grade": false,
     "grade_id": "cell-bb30c78a8783f3c0",
     "locked": true,
     "schema_version": 1,
     "solution": false
    }
   },
   "source": [
    "### Write a function to test whether a number is positive"
   ]
  },
  {
   "cell_type": "code",
   "execution_count": null,
   "metadata": {
    "nbgrader": {
     "checksum": "55d84779e87553f0008442b33d5921ab",
     "grade": false,
     "grade_id": "cell-b17130446493e1e7",
     "locked": false,
     "schema_version": 1,
     "solution": true
    }
   },
   "outputs": [],
   "source": [
    "def ispositive(x):\n",
    "    # YOUR CODE HERE\n",
    "    raise NotImplementedError()"
   ]
  },
  {
   "cell_type": "code",
   "execution_count": null,
   "metadata": {
    "nbgrader": {
     "checksum": "8589f05cab2107446ae82ff86f2bf4fa",
     "grade": true,
     "grade_id": "cell-163d61c8d4528ae4",
     "locked": true,
     "points": 0,
     "schema_version": 1,
     "solution": false
    }
   },
   "outputs": [],
   "source": [
    "assert_true(ispositive(5))\n",
    "assert_false(ispositive(-1))\n",
    "assert_false(ispositive(0))"
   ]
  },
  {
   "cell_type": "code",
   "execution_count": null,
   "metadata": {
    "nbgrader": {
     "checksum": "33d2b6a67014d7ca96db840a45ac3100",
     "grade": false,
     "grade_id": "cell-2514734b675a7247",
     "locked": false,
     "schema_version": 1,
     "solution": true
    }
   },
   "outputs": [],
   "source": [
    "def getint(sint):\n",
    "    # YOUR CODE HERE\n",
    "    raise NotImplementedError()"
   ]
  },
  {
   "cell_type": "code",
   "execution_count": null,
   "metadata": {
    "nbgrader": {
     "checksum": "f8ad9dd5dd6af8b26e83c62bd24825cd",
     "grade": true,
     "grade_id": "cell-c1513c8de2dfd7da",
     "locked": true,
     "points": 0,
     "schema_version": 1,
     "solution": false
    }
   },
   "outputs": [],
   "source": [
    "assert_equal(getint(543), 543)\n",
    "assert_raises(ValueError, getint, \"4.7\")\n"
   ]
  },
  {
   "cell_type": "markdown",
   "metadata": {
    "nbgrader": {
     "checksum": "00ed88f8da5169cc4dde24d9a6d239ee",
     "grade": false,
     "grade_id": "cell-6d9f7c9521708bdf",
     "locked": true,
     "schema_version": 1,
     "solution": false
    }
   },
   "source": [
    "### Using `getint` and `ispositive` rewrite `get_pos_integer`"
   ]
  },
  {
   "cell_type": "code",
   "execution_count": null,
   "metadata": {
    "nbgrader": {
     "checksum": "0af3dea33082433983982bc53bc81dcf",
     "grade": false,
     "grade_id": "cell-fa342b9026507d73",
     "locked": false,
     "schema_version": 1,
     "solution": true
    }
   },
   "outputs": [],
   "source": [
    "def get_pos_integer2(prompt=\"enter a positive integer: \"):\n",
    "    # YOUR CODE HERE\n",
    "    raise NotImplementedError()"
   ]
  },
  {
   "cell_type": "code",
   "execution_count": null,
   "metadata": {
    "nbgrader": {
     "checksum": "e355e56944702ae2c838a116899e39d1",
     "grade": true,
     "grade_id": "cell-e69024ff74b045be",
     "locked": true,
     "points": 0,
     "schema_version": 1,
     "solution": false
    }
   },
   "outputs": [],
   "source": [
    "# Enter '5'\n",
    "assert_equal(get_pos_integer2(),5)\n",
    "\n",
    "# Enter '7'\n",
    "assert_equal(get_pos_integer2(),7)\n"
   ]
  },
  {
   "cell_type": "markdown",
   "metadata": {},
   "source": [
    "## Exercise\n",
    "\n",
    "Following the same style as `get_pos_integer`, write a function `get_value`. `get_value` takes as arguments:\n",
    "\n",
    "1. A positional argument `converter` that is a function that takes as input a string and returns the desired value\n",
    "1. A positional argument `tester` that is a function that takes as input a value and returns `True` or `False` depending on whether a desired condition is satisfied.\n",
    "1. A keyword argument `prompt` that is the prompt to use with `input`.\n",
    "\n",
    "Test the function with `getint` and `ispositive`."
   ]
  },
  {
   "cell_type": "code",
   "execution_count": null,
   "metadata": {
    "nbgrader": {
     "checksum": "b3abab819f6e2189d93516997ca9645d",
     "grade": false,
     "grade_id": "cell-cebe2a0d20841727",
     "locked": false,
     "schema_version": 1,
     "solution": true
    }
   },
   "outputs": [],
   "source": [
    "# YOUR CODE HERE\n",
    "raise NotImplementedError()"
   ]
  },
  {
   "cell_type": "code",
   "execution_count": null,
   "metadata": {},
   "outputs": [],
   "source": [
    "get_value(getint, ispositive)"
   ]
  },
  {
   "cell_type": "markdown",
   "metadata": {},
   "source": [
    "## Exercise\n",
    "\n",
    "Modify `test_ascending` to take in a sequence and test if the elements in `values` are in ascending order.\n",
    "\n",
    "**Hint:** Use the `all` function."
   ]
  },
  {
   "cell_type": "code",
   "execution_count": null,
   "metadata": {
    "nbgrader": {
     "checksum": "cd853830e5378aa2e0b92ad40cd92fed",
     "grade": false,
     "grade_id": "cell-40b8ef1cd8e54c0b",
     "locked": false,
     "schema_version": 1,
     "solution": true
    }
   },
   "outputs": [],
   "source": [
    "def test_ascending(values):\n",
    "    # YOUR CODE HERE\n",
    "    raise NotImplementedError()"
   ]
  },
  {
   "cell_type": "code",
   "execution_count": null,
   "metadata": {
    "nbgrader": {
     "checksum": "dc68c51f3886439038b82fb59feed12c",
     "grade": true,
     "grade_id": "cell-519436fcb56d35ad",
     "locked": true,
     "points": 0,
     "schema_version": 1,
     "solution": false
    }
   },
   "outputs": [],
   "source": [
    "assert_true(test_ascending((\"Argos\", \"Helios\", \"Zeus\")))\n",
    "assert_false(test_ascending((\"Argos\", \"Zeus\", \"Helios\")))\n",
    "assert_false(test_ascending((\"argos\", \"Helios\", \"Zeus\")))\n"
   ]
  },
  {
   "cell_type": "code",
   "execution_count": null,
   "metadata": {
    "nbgrader": {
     "checksum": "c98cf72e826c7294ef162534f9efab1d",
     "grade": false,
     "grade_id": "cell-4f5dfd3fc60fcbf6",
     "locked": true,
     "schema_version": 1,
     "solution": false
    }
   },
   "outputs": [],
   "source": [
    "get_value(get_three_words, \n",
    "          test_ascending, \n",
    "          prompt=\"enter three words in ascending alphabetical order separated by spaces: \")\n"
   ]
  },
  {
   "cell_type": "markdown",
   "metadata": {
    "internals": {
     "slide_helper": "subslide_end",
     "slide_type": "subslide"
    },
    "nbgrader": {
     "checksum": "5d9417f7d2463b5005bf452273bdc7dd",
     "grade": false,
     "grade_id": "cell-2171ea721f9bf057",
     "locked": true,
     "schema_version": 1,
     "solution": false
    },
    "slide_helper": "subslide_end",
    "slideshow": {
     "slide_type": "subslide"
    }
   },
   "source": [
    "## [Avoiding empty list as a default argument](https://stackoverflow.com/questions/1132941/least-astonishment-and-the-mutable-default-argument)"
   ]
  },
  {
   "cell_type": "markdown",
   "metadata": {
    "nbgrader": {
     "checksum": "8a326aa94d528941e496ac92c5a964b1",
     "grade": false,
     "grade_id": "cell-dad553579a30612a",
     "locked": true,
     "schema_version": 1,
     "solution": false
    }
   },
   "source": [
    "## Observe this unexpected behavior"
   ]
  },
  {
   "cell_type": "code",
   "execution_count": null,
   "metadata": {
    "nbgrader": {
     "checksum": "a0664b78d54d570e421a89641acf96b5",
     "grade": false,
     "grade_id": "cell-3026cb0936ef2b33",
     "locked": true,
     "schema_version": 1,
     "solution": false
    }
   },
   "outputs": [],
   "source": [
    "def foo(a=[]):\n",
    "    a.append(5)\n",
    "    return a\n",
    "print(foo())\n",
    "print(foo())"
   ]
  },
  {
   "cell_type": "code",
   "execution_count": null,
   "metadata": {
    "nbgrader": {
     "checksum": "eb532505c1c3d59762346c0ea02009c4",
     "grade": false,
     "grade_id": "cell-bf40a4160677f589",
     "locked": true,
     "schema_version": 1,
     "solution": false
    }
   },
   "outputs": [],
   "source": [
    "def i_hate_foo(a=None):\n",
    "    if a == None:\n",
    "        a = []\n",
    "    a.append(5)\n",
    "    return a\n",
    "print(i_hate_foo())\n",
    "print(i_hate_foo())"
   ]
  },
  {
   "cell_type": "markdown",
   "metadata": {},
   "source": [
    "### Variable number of position arguments\n",
    "\n",
    "A function definition that looks like this\n",
    "\n",
    "```python\n",
    "\n",
    "def some_function(*x):\n",
    "    ### BLOCK OF CODE\n",
    "```\n",
    "\n",
    "Has a variable number of positional arguments.\n",
    "\n",
    "The variable number of positional arguments are passed to the function as a **list.**"
   ]
  },
  {
   "cell_type": "code",
   "execution_count": null,
   "metadata": {},
   "outputs": [],
   "source": [
    "def demo1(*x):\n",
    "    for xx in x:\n",
    "        print(xx)\n",
    "demo1(1,\"Brian\", [1,2,3], {4,5,6})"
   ]
  },
  {
   "cell_type": "markdown",
   "metadata": {
    "nbgrader": {
     "checksum": "4ef7fb92a497e522ddf13ad8c3972e0f",
     "grade": false,
     "grade_id": "cell-65973a5510970aab",
     "locked": true,
     "schema_version": 1,
     "solution": false
    }
   },
   "source": [
    "## Exercise\n",
    "\n",
    "Write a function ``sumthings`` that takes a variable number of arguments and returns the sum of their values.\n",
    "\n",
    "#### Challenge: Can you do this with a single Python statement within `sumthings`?"
   ]
  },
  {
   "cell_type": "code",
   "execution_count": null,
   "metadata": {},
   "outputs": [],
   "source": []
  },
  {
   "cell_type": "code",
   "execution_count": null,
   "metadata": {
    "internals": {
     "slide_helper": "subslide_end"
    },
    "nbgrader": {
     "checksum": "b61cfa0375771e616de9aa4f905d370c",
     "grade": false,
     "grade_id": "cell-e7d16b80330ab587",
     "locked": false,
     "schema_version": 1,
     "solution": true
    },
    "slide_helper": "slide_end",
    "slideshow": {
     "slide_type": "-"
    }
   },
   "outputs": [],
   "source": [
    "def sumthings(*x):\n",
    "    # YOUR CODE HERE\n",
    "    raise NotImplementedError()"
   ]
  },
  {
   "cell_type": "code",
   "execution_count": null,
   "metadata": {
    "nbgrader": {
     "checksum": "bc1d162c6aaa50718cb1a1c70eee2b8c",
     "grade": true,
     "grade_id": "cell-28f6eb94cc2d3bbc",
     "locked": true,
     "points": 0,
     "schema_version": 1,
     "solution": false
    }
   },
   "outputs": [],
   "source": [
    "assert_equal(sumthings(1,2,3),6)\n",
    "assert_equal(sumthings(1),1)\n",
    "assert_equal(sumthings(),0)\n"
   ]
  },
  {
   "cell_type": "markdown",
   "metadata": {
    "nbgrader": {
     "checksum": "ab9310d53e8381ccaaf92690373874b3",
     "grade": false,
     "grade_id": "cell-1c5ee197b9cb2f7e",
     "locked": true,
     "schema_version": 1,
     "solution": false
    }
   },
   "source": [
    "### Variable number of keyword arguments\n",
    "\n",
    "A function definition that looks like this\n",
    "\n",
    "```python\n",
    "\n",
    "def some_function(**kwargs):\n",
    "    ### BLOCK OF CODE\n",
    "```\n",
    "\n",
    "has a variable number of keyword arguments\n",
    "\n",
    "The variable number of positional arguments are passed to the function as a **list.**"
   ]
  },
  {
   "cell_type": "code",
   "execution_count": null,
   "metadata": {},
   "outputs": [],
   "source": [
    "def demo2(**kwargs):\n",
    "    for k in kwargs:\n",
    "        print(k, kwargs[k])\n",
    "demo2(print=\"No way\", age=29, favorite_number=8, luck=\"bad\")"
   ]
  }
 ],
 "metadata": {
  "kernelspec": {
   "display_name": "Python [default]",
   "language": "python",
   "name": "python3"
  },
  "language_info": {
   "codemirror_mode": {
    "name": "ipython",
    "version": 3
   },
   "file_extension": ".py",
   "mimetype": "text/x-python",
   "name": "python",
   "nbconvert_exporter": "python",
   "pygments_lexer": "ipython3",
   "version": "3.6.4"
  }
 },
 "nbformat": 4,
 "nbformat_minor": 1
}
