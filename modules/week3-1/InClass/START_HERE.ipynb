{
 "cells": [
  {
   "cell_type": "markdown",
   "metadata": {},
   "source": [
    "# In-class Exploration of Collections\n",
    "\n",
    "* [What is hashable](./hashable.ipynb)\n",
    "* [SymPy Sets](./sympy_sets.ipynb)\n",
    "* [CollectionsInClass](./CollectionsInClassExercises.ipynb)\n",
    "* [Biomedical Data](./brian_biomedical_data.ipynb)\n",
    "* [Working with ICDO data](./WorkingWithICD9.ipynb)\n",
    "* [Finding unique phenotypes](./find_unique_phenotypes.ipynb)"
   ]
  },
  {
   "cell_type": "code",
   "execution_count": null,
   "metadata": {},
   "outputs": [],
   "source": []
  }
 ],
 "metadata": {
  "kernelspec": {
   "display_name": "Python [default]",
   "language": "python",
   "name": "python3"
  },
  "language_info": {
   "codemirror_mode": {
    "name": "ipython",
    "version": 3
   },
   "file_extension": ".py",
   "mimetype": "text/x-python",
   "name": "python",
   "nbconvert_exporter": "python",
   "pygments_lexer": "ipython3",
   "version": "3.6.4"
  }
 },
 "nbformat": 4,
 "nbformat_minor": 2
}
