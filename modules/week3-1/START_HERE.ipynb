{
 "cells": [
  {
   "cell_type": "markdown",
   "metadata": {},
   "source": [
    "# Collections\n",
    "## Class Preparation: Mathematics of Sets\n",
    "* [Introduction to Sets](mathematical_sets/Sets.ipynb)\n",
    "* [Sets in SymPy](mathematical_sets/sympy_sets.ipynb)\n",
    "* [Sets in Python](ClassPrep/SetsInPython.ipynb)\n",
    "    * [Sets and Authors](ClassPrep/Authors.ipynb)\n",
    "    * [Sets and Football](ClassPrep/Football.ipynb)\n",
    "    * [Sets and Travel Narrative](ClassPrep/ChangesInTravelNarratives.ipynb)\n",
    "* [Lists](ClassPrep/Lists.ipynb)\n",
    "* [Tuples](ClassPrep/Tuples.ipynb)\n",
    "* [Strings](ClassPrep/Strings.ipynb)\n",
    "* [Dictionaries](ClassPrep/Dictinaries.ipynb)"
   ]
  },
  {
   "cell_type": "code",
   "execution_count": null,
   "metadata": {},
   "outputs": [],
   "source": [
    "from IPython.display import YouTubeVideo\n",
    "YouTubeVideo (\"cDA3_5982h8\", width=800, height=600)"
   ]
  },
  {
   "cell_type": "markdown",
   "metadata": {},
   "source": [
    "## Discarding changes made in a git repository\n",
    "\n",
    "* Discard all local changes in the current directory (and below?):\n",
    "\n",
    "``git checkout -- .``"
   ]
  },
  {
   "cell_type": "code",
   "execution_count": null,
   "metadata": {},
   "outputs": [],
   "source": []
  }
 ],
 "metadata": {
  "anaconda-cloud": {},
  "kernelspec": {
   "display_name": "Python [default]",
   "language": "python",
   "name": "python3"
  },
  "language_info": {
   "codemirror_mode": {
    "name": "ipython",
    "version": 3
   },
   "file_extension": ".py",
   "mimetype": "text/x-python",
   "name": "python",
   "nbconvert_exporter": "python",
   "pygments_lexer": "ipython3",
   "version": "3.6.4"
  }
 },
 "nbformat": 4,
 "nbformat_minor": 2
}
