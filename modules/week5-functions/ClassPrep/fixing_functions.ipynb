{
 "cells": [
  {
   "cell_type": "code",
   "execution_count": null,
   "metadata": {},
   "outputs": [],
   "source": [
    "from nose.tools import assert_true, assert_equal, assert_false, assert_almost_equal, assert_raises\n",
    "import math\n",
    "from gensim.parsing.preprocessing import STOPWORDS\n",
    "import numpy as np\n",
    "import matplotlib.pyplot as plt"
   ]
  },
  {
   "cell_type": "code",
   "execution_count": null,
   "metadata": {},
   "outputs": [],
   "source": [
    "def a2powb(a,b)\n",
    "    \"\"\"\n",
    "    This function takes as argument to numbers (a,b) and raises a to\n",
    "    the power b.\n",
    "    \n",
    "    Input:\n",
    "        a: number\n",
    "        b: number\n",
    "    Output:\n",
    "        a number\n",
    "    \"\"\"\n",
    "    return a**b"
   ]
  },
  {
   "cell_type": "code",
   "execution_count": null,
   "metadata": {},
   "outputs": [],
   "source": [
    "def skip_and_reverse(inc=1, seq):\n",
    "    \"\"\"\n",
    "    This function takes a sequence (seq), and returns a reversed version\n",
    "    with every inc value included\n",
    "    \"\"\"\n",
    "    \n",
    "    if isinstance(seq, str):\n",
    "        rslt = \"\".join([x for x in seq[-1::-inc]])\n",
    "    elif isinstance(seq, tuple):\n",
    "        return tuple(x for x in seq[-1::-inc])\n",
    "    else:\n",
    "        return [x for x in seq[-1::-inc]]"
   ]
  },
  {
   "cell_type": "code",
   "execution_count": null,
   "metadata": {},
   "outputs": [],
   "source": [
    "assert_equal(skip_and_reverse(\"Brian Chapman\", inc=1), 'nampahC nairB')"
   ]
  },
  {
   "cell_type": "code",
   "execution_count": null,
   "metadata": {},
   "outputs": [],
   "source": [
    "assert_equal(skip_and_reverse(\"Brian Chapman\", inc=2), 'nmaCniB')"
   ]
  },
  {
   "cell_type": "code",
   "execution_count": null,
   "metadata": {},
   "outputs": [],
   "source": [
    "assert_equal(skip_and_reverse(range(1,21), inc=3), [20, 17, 14, 11, 8, 5, 2])"
   ]
  },
  {
   "cell_type": "code",
   "execution_count": null,
   "metadata": {},
   "outputs": [],
   "source": [
    "assert_equal(skip_and_reverse((5,1,4,3,7,9,), inc=1), (9, 7, 3, 4, 1, 5))"
   ]
  },
  {
   "cell_type": "code",
   "execution_count": null,
   "metadata": {},
   "outputs": [],
   "source": [
    "def func3(**xs):\n",
    "    \"\"\"\n",
    "    takes a variable number of positional arguments and returns a \n",
    "    sequence of backward differences\n",
    "    \"\"\"\n",
    "    return [xs[i]-xs[i-1] for i in range(1,len(xs))]"
   ]
  },
  {
   "cell_type": "code",
   "execution_count": null,
   "metadata": {},
   "outputs": [],
   "source": [
    "assert_equal(func3(3,10,8,-7,4), [7, -2, -15, 11])"
   ]
  },
  {
   "cell_type": "code",
   "execution_count": null,
   "metadata": {},
   "outputs": [],
   "source": [
    "rslt = -1\n",
    "xs = \"\"\n",
    "import string\n",
    "def func4(xs):\n",
    "    \"\"\"\n",
    "    \"\"\"\n",
    "    if len(xs) % 1 == 0:\n",
    "        rslt = sum([xs.lower().count(v) for v in \"aeiou\"])\n",
    "    else:\n",
    "        rslt = sum([xs.count(p) for p in string.punctuation])\n",
    "\n",
    "return rslt"
   ]
  },
  {
   "cell_type": "code",
   "execution_count": null,
   "metadata": {},
   "outputs": [],
   "source": [
    "assert_equal(func4(\"My name is Inigo Montoya. You killed my father. Prepare to die.\"), \n",
    "             3)"
   ]
  },
  {
   "cell_type": "code",
   "execution_count": null,
   "metadata": {},
   "outputs": [],
   "source": [
    "assert_equal(func4(\"\"\"It does so by iteratively marking as composite (i.e., not prime) the multiples of each prime, starting with the first prime number, 2. The multiples of a given prime are generated as a sequence of numbers starting from that prime, with constant difference between them that is equal to that prime.[1] This is the sieve's key distinction from using trial division to sequentially test each candidate number for divisibility by each prime.[2]\"\"\"),\n",
    "             135)"
   ]
  },
  {
   "cell_type": "code",
   "execution_count": null,
   "metadata": {},
   "outputs": [],
   "source": [
    "x = 0\n",
    "y = 0\n",
    "def func5( x, y):\n",
    "    \"\"\"\n",
    "    raises x to the power y\n",
    "    \"\"\"\n",
    "    return x*y"
   ]
  },
  {
   "cell_type": "code",
   "execution_count": null,
   "metadata": {},
   "outputs": [],
   "source": [
    "assert_equal(func5(0,0),1)"
   ]
  },
  {
   "cell_type": "code",
   "execution_count": null,
   "metadata": {},
   "outputs": [],
   "source": [
    "assert_almost_equal(func5(3,math.pi), 31.54428070019754)"
   ]
  },
  {
   "cell_type": "code",
   "execution_count": null,
   "metadata": {},
   "outputs": [],
   "source": [
    "function func6(x):\n",
    "    return 2*x"
   ]
  },
  {
   "cell_type": "code",
   "execution_count": null,
   "metadata": {},
   "outputs": [],
   "source": [
    "assert_equal(func6(3),6)"
   ]
  },
  {
   "cell_type": "code",
   "execution_count": null,
   "metadata": {},
   "outputs": [],
   "source": [
    "assert_equal(func6(\"CTG\"), 'CTGCTG')"
   ]
  },
  {
   "cell_type": "markdown",
   "metadata": {},
   "source": [
    "#### The `sinc` function should look like this:\n",
    "\n",
    "![sinc](./sinc.png)"
   ]
  },
  {
   "cell_type": "code",
   "execution_count": null,
   "metadata": {},
   "outputs": [],
   "source": [
    "def sinc(x):\n",
    "    if x == 0:\n",
    "        return = 1\n",
    "    else:\n",
    "        return math.sin(2*math.pi*x)/(math.pi*x)"
   ]
  },
  {
   "cell_type": "code",
   "execution_count": null,
   "metadata": {},
   "outputs": [],
   "source": [
    "assert_equal(sinc(0), 1)\n",
    "assert_almost_equal(sinc(math.pi/4),-0.39530174967336085)"
   ]
  },
  {
   "cell_type": "code",
   "execution_count": null,
   "metadata": {},
   "outputs": [],
   "source": [
    "plt.plot(np.arange(-math.pi,math.pi,0.1), [sinc(x) for x in np.arange(-math.pi,math.pi,0.1)])"
   ]
  },
  {
   "cell_type": "code",
   "execution_count": null,
   "metadata": {},
   "outputs": [],
   "source": []
  },
  {
   "cell_type": "code",
   "execution_count": null,
   "metadata": {},
   "outputs": [],
   "source": []
  },
  {
   "cell_type": "code",
   "execution_count": null,
   "metadata": {},
   "outputs": [],
   "source": [
    "def _isstop(word):\n",
    "    for sword in STOPWORDS:\n",
    "        if word in sword:\n",
    "            return True\n",
    "    return False\n",
    "\n",
    "def remove_stops(words):\n",
    "\n",
    "    if isinstance(words, str):\n",
    "        wrds = words.split()\n",
    "    else:\n",
    "        wrds = words[:]\n",
    "    for word in wrds:\n",
    "        if _isstop(word.lower()):\n",
    "            wrds.remove(word)\n",
    "        return wrds"
   ]
  },
  {
   "cell_type": "code",
   "execution_count": null,
   "metadata": {},
   "outputs": [],
   "source": [
    "assert_equal(remove_stops(\"I am but a poor boy\"), ['am', 'a', 'poor', 'boy'])"
   ]
  },
  {
   "cell_type": "code",
   "execution_count": null,
   "metadata": {},
   "outputs": [],
   "source": [
    "assert_equal(remove_stops(\"A contrast CT was considered, but, due to poor renal function, an MRI was ordered.\"),\n",
    "['contrast',\n",
    " 'CT',\n",
    " 'considered,',\n",
    " 'but,',\n",
    " 'to',\n",
    " 'poor',\n",
    " 'renal',\n",
    " 'function,',\n",
    " 'MRI',\n",
    " 'ordered.'])"
   ]
  },
  {
   "cell_type": "code",
   "execution_count": null,
   "metadata": {},
   "outputs": [],
   "source": []
  }
 ],
 "metadata": {
  "kernelspec": {
   "display_name": "Python [default]",
   "language": "python",
   "name": "python3"
  },
  "language_info": {
   "codemirror_mode": {
    "name": "ipython",
    "version": 3
   },
   "file_extension": ".py",
   "mimetype": "text/x-python",
   "name": "python",
   "nbconvert_exporter": "python",
   "pygments_lexer": "ipython3",
   "version": "3.6.4"
  }
 },
 "nbformat": 4,
 "nbformat_minor": 2
}
