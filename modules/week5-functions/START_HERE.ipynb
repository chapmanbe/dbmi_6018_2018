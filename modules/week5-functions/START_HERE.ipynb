{
 "cells": [
  {
   "cell_type": "markdown",
   "metadata": {},
   "source": [
    "# Continuing Functions\n",
    "\n",
    "This week we will continue to practice with functions. Prior to class, please watch this video on using the [Sieve of Erotosthenes](https://en.wikipedia.org/wiki/Sieve_of_Eratosthenes) to identify prime numbers. At the beginning of the class period, Yucheng will lead the group in writing a function that implements this algorithm.\n"
   ]
  },
  {
   "cell_type": "code",
   "execution_count": null,
   "metadata": {},
   "outputs": [],
   "source": [
    "from IPython.display import YouTubeVideo"
   ]
  },
  {
   "cell_type": "code",
   "execution_count": null,
   "metadata": {},
   "outputs": [],
   "source": [
    "YouTubeVideo(\"lI-EbL46NlQ\")"
   ]
  },
  {
   "cell_type": "markdown",
   "metadata": {},
   "source": [
    "## Practice Fixing Functions\n",
    "\n",
    "The notebook linked to below provides a variety of small functions that need to be fixed. Usually it is just one syntax error, but a few might have semantic errors. \n",
    "\n",
    "* [Practice Fixing Functions](./ClassPrep/fixing_functions.ipynb)\n",
    "\n",
    "## In-class Work\n",
    "\n",
    "* [Notebook for in-class problems](./InClass/functions_inclass_week2.ipynb)"
   ]
  },
  {
   "cell_type": "code",
   "execution_count": null,
   "metadata": {},
   "outputs": [],
   "source": []
  }
 ],
 "metadata": {
  "kernelspec": {
   "display_name": "Python [default]",
   "language": "python",
   "name": "python3"
  },
  "language_info": {
   "codemirror_mode": {
    "name": "ipython",
    "version": 3
   },
   "file_extension": ".py",
   "mimetype": "text/x-python",
   "name": "python",
   "nbconvert_exporter": "python",
   "pygments_lexer": "ipython3",
   "version": "3.6.4"
  }
 },
 "nbformat": 4,
 "nbformat_minor": 2
}
