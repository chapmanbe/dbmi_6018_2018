{
 "cells": [
  {
   "cell_type": "code",
   "execution_count": null,
   "metadata": {},
   "outputs": [],
   "source": [
    "%matplotlib inline"
   ]
  },
  {
   "cell_type": "code",
   "execution_count": null,
   "metadata": {},
   "outputs": [],
   "source": [
    "import os\n",
    "import matplotlib.pyplot as pp\n",
    "import numpy.random as ra\n",
    "import seaborn as sns\n",
    "import numpy as np"
   ]
  },
  {
   "cell_type": "markdown",
   "metadata": {},
   "source": [
    "#### Create a random array  of random, normally distributed values with size N with mean=0 and standard deviation=1. \n",
    "* Vary N (e.g. 10, 50, 100, 1000) and measure the difference between the specified mean and standard deviation and the measured values."
   ]
  },
  {
   "cell_type": "code",
   "execution_count": null,
   "metadata": {},
   "outputs": [],
   "source": [
    "\n",
    "for n in [10, 50, 100, 1000]:\n",
    "    data = ra.normal(loc=0,scale=1.0, size=n)\n",
    "    sns.distplot(data)\n",
    "    print(n,\": \", abs(data.mean()-0.0))"
   ]
  },
  {
   "cell_type": "code",
   "execution_count": null,
   "metadata": {},
   "outputs": [],
   "source": [
    "sns.distplotlot()"
   ]
  },
  {
   "cell_type": "markdown",
   "metadata": {},
   "source": [
    "#### Repeat the previous experiments but create the arrays as int64 using the ``astype`` method\n",
    "\n",
    "* Comment on differences between prior experiments"
   ]
  },
  {
   "cell_type": "code",
   "execution_count": null,
   "metadata": {},
   "outputs": [],
   "source": [
    "for n in [10, 50, 100, 1000]:\n",
    "    data = ra.normal(loc=0,scale=1.0, size=n).astype(np.int64)\n",
    "    sns.distplot(data)\n",
    "    print(n,\": \", data.mean()-0.0)"
   ]
  },
  {
   "cell_type": "markdown",
   "metadata": {},
   "source": [
    "#### Repeat with integer values but change the mean to 100 and the standard deviation to 10"
   ]
  },
  {
   "cell_type": "code",
   "execution_count": null,
   "metadata": {},
   "outputs": [],
   "source": [
    "\n",
    "for n in [10, 50, 100, 1000]:\n",
    "    data = ra.normal(loc=100,scale=10.0, size=n).astype(np.int64)\n",
    "    sns.distplot(data)\n",
    "    print(n,\": \", data.mean()-100.0)"
   ]
  },
  {
   "cell_type": "code",
   "execution_count": null,
   "metadata": {},
   "outputs": [],
   "source": []
  }
 ],
 "metadata": {
  "anaconda-cloud": {},
  "kernelspec": {
   "display_name": "Python [default]",
   "language": "python",
   "name": "python3"
  },
  "language_info": {
   "codemirror_mode": {
    "name": "ipython",
    "version": 3
   },
   "file_extension": ".py",
   "mimetype": "text/x-python",
   "name": "python",
   "nbconvert_exporter": "python",
   "pygments_lexer": "ipython3",
   "version": "3.6.4"
  }
 },
 "nbformat": 4,
 "nbformat_minor": 2
}
