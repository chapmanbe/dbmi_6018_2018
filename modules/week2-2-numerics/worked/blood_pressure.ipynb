{
 "cells": [
  {
   "cell_type": "markdown",
   "metadata": {},
   "source": [
    "### Additional packages\n",
    "\n",
    "We are going to install some additional packages using the *conda* function that comes with Anconda.\n",
    "\n",
    "* ``ipywidgets`` will allow us to use interactive widgets in the notebook\n",
    "* ``holoviews`` is a visualization package that allows you to attach semantic meaning to data\n",
    "* ``seaborn`` is an extension/improvement of matplotlib\n",
    "* ``statsmodels`` is a package of statistical functions"
   ]
  },
  {
   "cell_type": "code",
   "execution_count": null,
   "metadata": {},
   "outputs": [],
   "source": [
    "import seaborn as sns\n",
    "from ipywidgets import interactive\n",
    "import numpy as np\n",
    "\n"
   ]
  },
  {
   "cell_type": "code",
   "execution_count": null,
   "metadata": {},
   "outputs": [],
   "source": [
    "systolic = np.fromfile(\"./systolic.txt\",sep=\",\")\n",
    "diastolic = np.fromfile(\"./diastolic.txt\",sep=\",\")"
   ]
  },
  {
   "cell_type": "code",
   "execution_count": null,
   "metadata": {},
   "outputs": [],
   "source": []
  },
  {
   "cell_type": "markdown",
   "metadata": {},
   "source": [
    "### Here are some visualizations  of the data \n",
    "\n",
    "We'll learn more details about these packages later in the class."
   ]
  },
  {
   "cell_type": "code",
   "execution_count": null,
   "metadata": {},
   "outputs": [],
   "source": [
    "sns.distplot(systolic,color=\"m\")\n",
    "sns.distplot(diastolic,color='g')"
   ]
  },
  {
   "cell_type": "markdown",
   "metadata": {},
   "source": [
    "### What is the difference between the systolic and diastolic pressure?\n",
    "\n",
    "Arithmetic can be done directly on numpy objects. So computing the difference is trivial."
   ]
  },
  {
   "cell_type": "code",
   "execution_count": null,
   "metadata": {},
   "outputs": [],
   "source": [
    "diff = systolic - diastolic\n",
    "sns.distplot(diff,color='b')"
   ]
  },
  {
   "cell_type": "markdown",
   "metadata": {},
   "source": [
    "### What is the maximum difference?\n",
    "\n",
    "There are several ways we can do this\n",
    "\n",
    "1. Python has a built in `max` function\n",
    "1. `numpy` has a `max` function\n",
    "1. `numpy` objects have a `max` method\n",
    "\n",
    "**NOTE:** methods are functions attached to objects."
   ]
  },
  {
   "cell_type": "code",
   "execution_count": null,
   "metadata": {},
   "outputs": [],
   "source": [
    "print(max(diff))\n",
    "print(np.max(diff))\n",
    "print(diff.max())"
   ]
  },
  {
   "cell_type": "markdown",
   "metadata": {},
   "source": [
    "#### Or the old fashioned way"
   ]
  },
  {
   "cell_type": "code",
   "execution_count": null,
   "metadata": {},
   "outputs": [],
   "source": [
    "max_value = diff[0]\n",
    "for d in diff[1:]:\n",
    "    if d > max_value:\n",
    "        max_value = d\n",
    "print(max_value)"
   ]
  },
  {
   "cell_type": "markdown",
   "metadata": {},
   "source": [
    "### What is the minimum difference"
   ]
  },
  {
   "cell_type": "code",
   "execution_count": null,
   "metadata": {},
   "outputs": [],
   "source": [
    "print(min(diff))\n",
    "print(np.min(diff))\n",
    "print(diff.min())"
   ]
  },
  {
   "cell_type": "code",
   "execution_count": null,
   "metadata": {},
   "outputs": [],
   "source": [
    "min_value = diff[0]\n",
    "for d in diff[1:]:\n",
    "    if d < min_value:\n",
    "        min_value = d\n",
    "print(min_value)"
   ]
  },
  {
   "cell_type": "markdown",
   "metadata": {},
   "source": [
    "### What is the average difference"
   ]
  },
  {
   "cell_type": "code",
   "execution_count": null,
   "metadata": {},
   "outputs": [],
   "source": [
    "print(np.mean(diff))\n",
    "print(diff.mean())"
   ]
  },
  {
   "cell_type": "code",
   "execution_count": null,
   "metadata": {},
   "outputs": [],
   "source": [
    "sum(diff)/len(diff)"
   ]
  },
  {
   "cell_type": "code",
   "execution_count": null,
   "metadata": {},
   "outputs": [],
   "source": []
  }
 ],
 "metadata": {
  "anaconda-cloud": {},
  "kernelspec": {
   "display_name": "Python [default]",
   "language": "python",
   "name": "python3"
  },
  "language_info": {
   "codemirror_mode": {
    "name": "ipython",
    "version": 3
   },
   "file_extension": ".py",
   "mimetype": "text/x-python",
   "name": "python",
   "nbconvert_exporter": "python",
   "pygments_lexer": "ipython3",
   "version": "3.6.4"
  }
 },
 "nbformat": 4,
 "nbformat_minor": 2
}
