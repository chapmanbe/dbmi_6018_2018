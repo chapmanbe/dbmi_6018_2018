{
 "cells": [
  {
   "cell_type": "markdown",
   "metadata": {},
   "source": [
    "# Example unit testing using [pytest](https://docs.pytest.org/en/latest)\n",
    "\n",
    "## Use Case: Refactoring pyConTextNLP\n",
    "\n",
    "[pyConTextNLP](https://github.com/chapmanbe/pyConTextNLP) is a natural language processing software package I developed as part of an image processing grant. It is a generalization and partial implementation of the ConText algorithm developed by Wendy Chapman, et al. The code is now widely used, particularly in Utah, but also by researchers throughout the States as well as Sweden, England, Finland, Italy, and other countries. The code is in desperate need of refactoring for both improved functioning and improved user interactions. In particular, I am interested in creating a functional version of the Code\n",
    "\n",
    "### Create a Test Environment\n",
    "virtual environment\n",
    "### Consider the following function:\n",
    "\n",
    "```Python\n",
    "def get_fileobj(_file):\n",
    "    if not urllib.parse.urlparse(_file).scheme:\n",
    "        _file = \"file://\"+_file\n",
    "    return urllib.request.urlopen(_file, data=None)\n",
    "```\n",
    "\n",
    "### This function has two paths:\n",
    "\n",
    "1. If a scheme (e.g. \"http\" is provided)\n",
    "2. If a scheme is not provided. \n",
    "\n",
    "We need to design tests for both of these paths."
   ]
  },
  {
   "cell_type": "markdown",
   "metadata": {},
   "source": [
    "#### Here is my first test function which tests the path without a schema:\n",
    "\n",
    "```Python\n",
    "def test_get_fileobj_1():\n",
    "    fobj = PurePath(PurePath(os.path.abspath(__file__)).parent, \"..\", \"..\", \"KB\", \"test.yml\")\n",
    "    yaml_fo = stuff.get_fileobj(str(fobj))\n",
    "    assert yaml_fo\n",
    "```\n",
    "\n",
    "#### What am I doing?\n",
    "\n",
    "* First, `os.path.abspath(__file__)` gets the absolute path to the current file.\n",
    "* Second, I am using [PurePath](https://docs.python.org/3/library/pathlib.html#pure-paths) objects to get paths to files. I am exploiting the known structure of the git repository to go from the location of the current file to where the knowledge base file are located. I need an absolute path for the `urllib.request.urlopen` function I am using.\n",
    "* Third, I pass the string representation of the path to the function I am testing.\n",
    "* Fourth, I test that the returned object is true. If the file fails to be opened, I will get a False value.\n",
    "\n",
    "\n",
    "This file is located in pckg1/pckg1/tests and we can run it with the `pytest` command:\n",
    "\n",
    "![pytest](./pytest_shell.png)"
   ]
  },
  {
   "cell_type": "markdown",
   "metadata": {},
   "source": [
    "### Exercises\n",
    "\n",
    "#### Adding a schema\n",
    "\n",
    "Uncomment `test_get_fileobj_2` in test1.py and modify it to test the case where the schema (i.e. `file://`) is provided.\n",
    "\n",
    "#### Reading from a remote url\n",
    "\n",
    "`get_fileobj` is intended to abstract away whether the user is reading a local yaml file or one hosted on the web. Uncomment `test_get_fileobj_3` and modify it to test whether the function can correctly read the contents from this file:\n",
    "\n",
    "[https://raw.githubusercontent.com/chapmanbe/pyConTextNLP/master/KB/test.yml](https://raw.githubusercontent.com/chapmanbe/pyConTextNLP/master/KB/test.yml)"
   ]
  },
  {
   "cell_type": "markdown",
   "metadata": {},
   "source": [
    "## Using fixtures\n",
    "\n",
    "Often times we want to provide the same resources (e.g. a DNA sequence or a discharge summary) to our tests. This can be done using either [setup/tear down mechanisms](https://docs.pytest.org/en/latest/xunit_setup.html) or using [fixtures](https://docs.pytest.org/en/latest/fixture.html#pytest-fixtures-explicit-modular-scalable). We will be exploring the use of fixtures.\n",
    "\n"
   ]
  },
  {
   "cell_type": "markdown",
   "metadata": {},
   "source": [
    "```Python\n",
    "def get_items(_file):\n",
    "    \n",
    "    f0 = _get_fileobj(_file)\n",
    "    \n",
    "    context_items =  [contextItem((d[\"Lex\"],\n",
    "                                   d[\"Type\"],\n",
    "                                   r\"%s\"%d[\"Regex\"],\n",
    "                                   d[\"Direction\"])) for d in yaml.load_all(f0)]\n",
    "    f0.close()\n",
    "    return context_items\n",
    "```"
   ]
  },
  {
   "cell_type": "markdown",
   "metadata": {},
   "source": [
    "There are two paths"
   ]
  },
  {
   "cell_type": "code",
   "execution_count": null,
   "metadata": {},
   "outputs": [],
   "source": []
  }
 ],
 "metadata": {
  "kernelspec": {
   "display_name": "Python 3",
   "language": "python",
   "name": "python3"
  },
  "language_info": {
   "codemirror_mode": {
    "name": "ipython",
    "version": 3
   },
   "file_extension": ".py",
   "mimetype": "text/x-python",
   "name": "python",
   "nbconvert_exporter": "python",
   "pygments_lexer": "ipython3",
   "version": "3.6.3"
  },
  "toc": {
   "base_numbering": 1,
   "nav_menu": {},
   "number_sections": true,
   "sideBar": true,
   "skip_h1_title": false,
   "title_cell": "Table of Contents",
   "title_sidebar": "Contents",
   "toc_cell": false,
   "toc_position": {},
   "toc_section_display": true,
   "toc_window_display": false
  }
 },
 "nbformat": 4,
 "nbformat_minor": 2
}
