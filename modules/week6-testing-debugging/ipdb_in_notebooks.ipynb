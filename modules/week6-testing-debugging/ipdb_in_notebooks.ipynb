{
 "cells": [
  {
   "cell_type": "markdown",
   "metadata": {},
   "source": [
    "# Debugging\n",
    "\n",
    ">With reference to Voltaire's famous novel *Candide*, our authors state \"[A]nnoingly, our programs don't always function properly the first time we run them.\" (p. 85).\n",
    "\n",
    "This might be considered an extreme understatement, especially when we are new to programming or even if we are experienced, when we are learning a new language or tackling a new problem. In this module, we will be learning some tips and tricks to help us find and fix errors in our programs. Going back to the early days of programming, these errors are referred to as \"bugs\" and finding and fixing them is usually referred to as \"debugging.\" \n",
    "\n",
    "Tools have been developed to facilitate debugging; we will play with some of these tools for Python. We can design our programs in a way that makes them easier to debug. We can use systematic search heuristics to find the errors. Heuristics is a key word here, and we will make frequent references to Polya's method in this module."
   ]
  },
  {
   "cell_type": "markdown",
   "metadata": {},
   "source": [
    "## First Steps\n",
    "\n",
    "### Get the Language (Python) to Agree to Run the Program\n",
    "\n",
    "* Eliminate syntactical and static semantic errors\n",
    "\n",
    "### [PyLint](https://www.pylint.org/)\n",
    "\n",
    "One tool that I find invaluable in this regards is [PyLint](https://www.pylint.org/). PyLint identifies syntactic errors in your code before you run it. Unfortunately, there does not seem to currently be a way to integrate PyLint into the Jupyter notebooks. To illustrate how it works, consider the code\n",
    "\n",
    "```Python\n",
    "for i in rang(1,0):\n",
    "    print i\n",
    "```\n",
    "\n",
    "When we type this code in a Jupyter cell, we don't see anything unique about the typesetting. However, if we type that code into an editor that has integration with PyLint (e.g. I have PyLint integrated into my vim editors), we see an error highlighted with a squiggly, red underline. If I click on that underlining, the editor (via PyLint) tells me \"Undefined name 'rang'\".\n",
    "\n",
    "This visual highlighting of errors can be very valuable."
   ]
  },
  {
   "cell_type": "code",
   "execution_count": null,
   "metadata": {},
   "outputs": [],
   "source": [
    "for i in rang(1,0):\n",
    "    print i\n"
   ]
  },
  {
   "cell_type": "markdown",
   "metadata": {},
   "source": [
    "![vim_lint_demo](./vim_lint.png)"
   ]
  },
  {
   "cell_type": "markdown",
   "metadata": {},
   "source": [
    "\n",
    "#### What about `print i`?\n",
    "\n",
    "Why doesn't the editor complain about `print i`? While this syntax is an error in Python 3, it is not an error in Python 2. \n",
    "\n",
    "#### What about `range(1,0)`?\n",
    "\n",
    "My specifying the arguments for `range` as `1,0` is almost surely an error, because it produces an empty list (iterator), and so I will never enter the loop. This is, however, perfectly fine Python syntax. But it is an error in the semantics of my program."
   ]
  },
  {
   "cell_type": "code",
   "execution_count": null,
   "metadata": {},
   "outputs": [],
   "source": [
    "for i in range(1,0):\n",
    "    print(i)"
   ]
  },
  {
   "cell_type": "markdown",
   "metadata": {},
   "source": [
    "## Debugging\n",
    "\n",
    "### Types of runtime bugs\n",
    "\n",
    "#### Overt/Covert\n",
    "\n",
    "* **Overt errors** are obvious because they result in something obvious like the program crashing or never ending\n",
    "* **Covert errors** do not result in something drastic. They simply produce wrong results.\n",
    "\n",
    "    \n",
    "#### Persistent/Intermittent\n",
    "\n",
    "* **Persistent errors** occur every time a program runs.\n",
    "* **Intermittent errors** only occur sometimes\n",
    "    * Difficult to address\n",
    "    \n",
    "### What have I found to be difficult to debug?\n",
    "\n",
    "* Programs with user interactions, particularly graphical user interfaces\n",
    "* Bugs that occur after a long chain of necessary computations."
   ]
  },
  {
   "cell_type": "markdown",
   "metadata": {},
   "source": [
    "## Learning to Debug\n",
    "\n",
    ">Debugging is a learned skill. Nobody does it will instinctively. The good news is that it's not hard to learn, and it is a transferable skill. (p. 94)\n",
    "\n",
    "### There is more good news!\n",
    "\n",
    "You will have lots of opportunity to learn how to debug because you will be making lots of mistakes throughout this class!\n",
    "\n",
    "### Debugging Tools\n",
    "\n",
    ">For at least four decades people have been building tools called debuggers, and there are debugging tools built into all of the popular Python IDE's. These are supposed to help people find bugs in their programs. They can help, but only a little. What's more important is how you approach the problem. Many experienced programmers don't even bother with debugging tools. **Most programmers say that the most important debugging tool is the `print` statement.** (p. 94)\n",
    "\n",
    "\n",
    "* Python comes with a debugging module known as the **p**ython **d**e**b**ugger ([pdb](https://docs.python.org/3/library/pdb.html))\n",
    "* IPython has its own debugging package known as [ipdb](https://pypi.python.org/pypi/ipdb)."
   ]
  },
  {
   "cell_type": "markdown",
   "metadata": {},
   "source": [
    "The function `euclid` is supposed to compute the greatest common divisor of two positive integers. The algorithm repeatedly subtracts the smaller number from the larger until the two numbers are equal. However, as implemented it fails to terminate if our two arguments (initial numbers) are not equal. Feel free to run it, but you'll have to interrupt the cell by hitting the stop button above.\n",
    "\n",
    "\n",
    "```Python\n",
    "def euclid(x,y):\n",
    "    while x != y:\n",
    "        if x < y:\n",
    "            tmp = x\n",
    "            x = y\n",
    "            y = tmp\n",
    "        y = y - x\n",
    "    return x\n",
    "```"
   ]
  },
  {
   "cell_type": "code",
   "execution_count": null,
   "metadata": {},
   "outputs": [],
   "source": [
    "def euclid(x,y):\n",
    "    while x != y:\n",
    "        if x < y:\n",
    "            tmp = x\n",
    "            x = y\n",
    "            y = tmp\n",
    "        y = y - x\n",
    "    return x"
   ]
  },
  {
   "cell_type": "code",
   "execution_count": null,
   "metadata": {},
   "outputs": [],
   "source": [
    "euclid(15,15)"
   ]
  },
  {
   "cell_type": "code",
   "execution_count": null,
   "metadata": {},
   "outputs": [],
   "source": [
    "euclid(15, 27)"
   ]
  },
  {
   "cell_type": "markdown",
   "metadata": {},
   "source": [
    "### Polya's Method and Debugging\n",
    "\n",
    "1. What is the problem?\n",
    "2. Devise a plan\n",
    "3. Execute the plan\n",
    "4. Look back"
   ]
  },
  {
   "cell_type": "markdown",
   "metadata": {},
   "source": [
    "#### 1. What is the problem?\n",
    "\n",
    "`euclid` fails to terminate if our initial two numbers are not equal"
   ]
  },
  {
   "cell_type": "markdown",
   "metadata": {},
   "source": [
    "#### 2. Devise a Plan\n",
    "\n",
    "The equality comparison is working correctly, so the problem must be in the body of the while loop.\n",
    "\n",
    "Let's put a `print(x,y)` statement somewhere inside of the `while` loop. Since I know the loop isn't going to terminate, I'm also going to put an `input` call in the loop, to make it easier to break out of the loop. I will test it with two numbers that are not equal (e.g. 27 and 15)."
   ]
  },
  {
   "cell_type": "markdown",
   "metadata": {},
   "source": [
    "#### 3. Execute the plan"
   ]
  },
  {
   "cell_type": "code",
   "execution_count": null,
   "metadata": {},
   "outputs": [],
   "source": [
    "def euclid(x,y):\n",
    "    while x != y:\n",
    "        if x < y:\n",
    "            tmp = x\n",
    "            x = y\n",
    "            y = tmp\n",
    "        y = y - x\n",
    "        print(x,y)\n",
    "        input('continue')\n",
    "    return x"
   ]
  },
  {
   "cell_type": "code",
   "execution_count": null,
   "metadata": {},
   "outputs": [],
   "source": [
    "euclid(27,15)"
   ]
  },
  {
   "cell_type": "markdown",
   "metadata": {},
   "source": [
    "#### 4. Look Back\n",
    "\n",
    "My print statement shows me that I ended up with a negative number when I should only have positive numbers.\n",
    "\n",
    "I've refined my problem. That is I have a new problem. Let me step through Polya's method.\n",
    "\n",
    "#### 1. Understand the problem \n",
    "`x` never changes, but `y` becomes ever more negative, so equality is never reached.\n",
    "\n",
    "#### 2. Devise a plan\n",
    "\n",
    "One line 7 I've messed up the subtraction. It should be `x = y - x` since `x` is the larger number. If I change this line, I think the program will work properly.\n",
    "\n",
    "#### 3. Execute the plan"
   ]
  },
  {
   "cell_type": "markdown",
   "metadata": {},
   "source": [
    "### Using the built in debuggers [pdb](https://docs.python.org/3/library/pdb.html)/ipdb\n",
    "\n",
    "#### Import commands\n",
    "\n",
    "* **p**: print\n",
    "* **c**: continue\n",
    "* **s**: step (into)\n",
    "* **n**: next (over)\n",
    "* **u**: go up the call stack\n",
    "* **d**: go down the call stack"
   ]
  },
  {
   "cell_type": "code",
   "execution_count": null,
   "metadata": {},
   "outputs": [],
   "source": [
    "# !conda install ipdb -y\n",
    "# pip install ipdb"
   ]
  },
  {
   "cell_type": "code",
   "execution_count": null,
   "metadata": {},
   "outputs": [],
   "source": [
    "import ipdb\n",
    "def euclid(x, y):\n",
    "    ipdb.set_trace()\n",
    "    if x == y:\n",
    "        return x\n",
    "    if x > y:\n",
    "        return euclid(y - x, x)\n",
    "    else:\n",
    "        return euclid(x - y, y)\n"
   ]
  },
  {
   "cell_type": "code",
   "execution_count": null,
   "metadata": {},
   "outputs": [],
   "source": [
    "euclid(27,100)"
   ]
  },
  {
   "cell_type": "markdown",
   "metadata": {},
   "source": [
    "### Example: Debugging a Pandas Application\n",
    "\n",
    "Here is a code snippet that I previously wrote to read a table from a website using `read_html`\n",
    "\n",
    "```Python\n",
    "mortality = pd.read_html(\"https://www.ssa.gov/oact/STATS/table4c6.html\", \n",
    "                         skiprows=4, \n",
    "                         header=None)[0]\n",
    "mortality = mortality.iloc[0:120,[1,4]]\n",
    "mortality.rename(columns=dict(zip(mortality.columns, \n",
    "                                  (\"Male prob. death\", \n",
    "                                   \"Female prob. death\"))),inplace=True)\n",
    "mortality.head()\n",
    "```\n",
    "#### What is this code doing?\n",
    "\n",
    "* Opening the website. \n",
    "* Skipping four rows\n",
    "* Assume there is no header\n",
    "* Take the first DataFrame that results from this read\n",
    "* Keep the first 120 rows and the 2nd and 4th columns\n",
    "* Rename two columns we kept\n",
    "\n",
    "What I expect as output is this:\n",
    "<table border=\"1\" class=\"dataframe\">\n",
    "  <thead>\n",
    "    <tr style=\"text-align: right;\">\n",
    "      <th></th>\n",
    "      <th>Male prob. death</th>\n",
    "      <th>Female prob. death</th>\n",
    "    </tr>\n",
    "  </thead>\n",
    "  <tbody>\n",
    "    <tr>\n",
    "      <th>0</th>\n",
    "      <td>0.006322</td>\n",
    "      <td>0.005313</td>\n",
    "    </tr>\n",
    "    <tr>\n",
    "      <th>1</th>\n",
    "      <td>0.000396</td>\n",
    "      <td>0.000346</td>\n",
    "    </tr>\n",
    "    <tr>\n",
    "      <th>2</th>\n",
    "      <td>0.000282</td>\n",
    "      <td>0.000221</td>\n",
    "    </tr>\n",
    "    <tr>\n",
    "      <th>3</th>\n",
    "      <td>0.000212</td>\n",
    "      <td>0.000162</td>\n",
    "    </tr>\n",
    "    <tr>\n",
    "      <th>4</th>\n",
    "      <td>0.000186</td>\n",
    "      <td>0.000131</td>\n",
    "    </tr>\n",
    "  </tbody>\n",
    "</table>"
   ]
  },
  {
   "cell_type": "markdown",
   "metadata": {},
   "source": [
    "#### What do I actually get?\n"
   ]
  },
  {
   "cell_type": "code",
   "execution_count": null,
   "metadata": {},
   "outputs": [],
   "source": [
    "import pandas as pd\n",
    "from IPython.display import display, HTML\n",
    "\n",
    "mortality = pd.read_html(\n",
    "    \"https://www.ssa.gov/oact/STATS/table4c6.html\", skiprows=4, header=None)[0]\n",
    "mortality = mortality.iloc[0:120, [1, 4]]\n",
    "mortality.rename(\n",
    "    columns=dict(\n",
    "        zip(mortality.columns, (\"Male prob. death\", \"Female prob. death\"))),\n",
    "    inplace=True)\n",
    "mortality.head()"
   ]
  },
  {
   "cell_type": "markdown",
   "metadata": {},
   "source": [
    "#### My column renaming has failed!\n",
    "#### What are my potential debugging steps?"
   ]
  },
  {
   "cell_type": "code",
   "execution_count": null,
   "metadata": {},
   "outputs": [],
   "source": [
    "mortality = pd.read_html(\n",
    "    \"https://www.ssa.gov/oact/STATS/table4c6.html\", skiprows=4, header=None)[0]\n",
    "display(mortality.head())"
   ]
  },
  {
   "cell_type": "code",
   "execution_count": null,
   "metadata": {},
   "outputs": [],
   "source": [
    "mortality = mortality.iloc[0:120, [1, 4]]\n",
    "mortality.head()"
   ]
  },
  {
   "cell_type": "code",
   "execution_count": null,
   "metadata": {},
   "outputs": [],
   "source": [
    "mortality.rename(\n",
    "    columns=dict(\n",
    "        zip(mortality.columns, (\"Male prob. death\", \"Female prob. death\"))),\n",
    "    inplace=True)\n",
    "mortality.head()"
   ]
  },
  {
   "cell_type": "code",
   "execution_count": null,
   "metadata": {},
   "outputs": [],
   "source": [
    "dict(list(zip(mortality.columns, (\"Male prob. death\", \"Female prob. death\"))))"
   ]
  },
  {
   "cell_type": "code",
   "execution_count": null,
   "metadata": {},
   "outputs": [],
   "source": [
    "def increment_study(participants, mortality, unit=10):\n",
    "    delta = 365/unit\n",
    "    mkeys = {\"M\":\"Male prob. death\", \"F\":\"Female prob. death\"}\n",
    "    for p in participants:\n",
    "        p.increment_study_time(relativedelta(days=+unit))\n",
    "        if random.random()< mortality.iloc[p.age[\"years\"]][mkeys[p.sex]]/delta:\n",
    "            p.dies()\n",
    "    return None\n",
    "while True:\n",
    "    living = [p for p in participants if not p.deceased]\n",
    "    if len(living)%200 == 0:\n",
    "        print(len(living))\n",
    "    if not living:\n",
    "        break\n",
    "    increment_study(living, mortality)"
   ]
  },
  {
   "cell_type": "code",
   "execution_count": null,
   "metadata": {},
   "outputs": [],
   "source": [
    "mortality.columns"
   ]
  },
  {
   "cell_type": "code",
   "execution_count": null,
   "metadata": {},
   "outputs": [],
   "source": [
    "mortality = pd.read_html(\"https://www.ssa.gov/oact/STATS/table4c6.html\", \n",
    "                         skiprows=4, \n",
    "                         tupleize_cols=True,\n",
    "                         header=None)[0]\n",
    "mortality = mortality.iloc[0:120,[1,4]]\n",
    "mortality.rename(columns=dict(zip(mortality.columns, \n",
    "                                  (\"Male prob. death\", \n",
    "                                   \"Female prob. death\"))),inplace=True)\n",
    "mortality.head()\n"
   ]
  },
  {
   "cell_type": "code",
   "execution_count": null,
   "metadata": {},
   "outputs": [],
   "source": []
  }
 ],
 "metadata": {
  "kernelspec": {
   "display_name": "Python 3",
   "language": "python",
   "name": "python3"
  },
  "language_info": {
   "codemirror_mode": {
    "name": "ipython",
    "version": 3
   },
   "file_extension": ".py",
   "mimetype": "text/x-python",
   "name": "python",
   "nbconvert_exporter": "python",
   "pygments_lexer": "ipython3",
   "version": "3.6.3"
  },
  "toc": {
   "base_numbering": 1,
   "nav_menu": {},
   "number_sections": true,
   "sideBar": true,
   "skip_h1_title": false,
   "title_cell": "Table of Contents",
   "title_sidebar": "Contents",
   "toc_cell": false,
   "toc_position": {},
   "toc_section_display": true,
   "toc_window_display": false
  }
 },
 "nbformat": 4,
 "nbformat_minor": 2
}
